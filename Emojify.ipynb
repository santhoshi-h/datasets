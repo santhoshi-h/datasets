{
  "nbformat": 4,
  "nbformat_minor": 0,
  "metadata": {
    "colab": {
      "provenance": [],
      "authorship_tag": "ABX9TyPaHXarMxfD4w767Nv758cy",
      "include_colab_link": true
    },
    "kernelspec": {
      "name": "python3",
      "display_name": "Python 3"
    },
    "language_info": {
      "name": "python"
    }
  },
  "cells": [
    {
      "cell_type": "markdown",
      "metadata": {
        "id": "view-in-github",
        "colab_type": "text"
      },
      "source": [
        "<a href=\"https://colab.research.google.com/github/santhoshi-h/datasets/blob/main/Emojify.ipynb\" target=\"_parent\"><img src=\"https://colab.research.google.com/assets/colab-badge.svg\" alt=\"Open In Colab\"/></a>"
      ]
    },
    {
      "cell_type": "markdown",
      "source": [
        "Emojify"
      ],
      "metadata": {
        "id": "9Xjx_NyyTGRf"
      }
    },
    {
      "cell_type": "code",
      "execution_count": 1,
      "metadata": {
        "colab": {
          "base_uri": "https://localhost:8080/",
          "height": 406
        },
        "id": "TCyezbf_TB-l",
        "outputId": "8634f164-a3fc-4e69-81ab-a1d3dfc99535"
      },
      "outputs": [
        {
          "output_type": "display_data",
          "data": {
            "text/plain": [
              "<Figure size 640x480 with 1 Axes>"
            ],
            "image/png": "[encoded data removed]"
          },
          "metadata": {}
        }
      ],
      "source": [
        "from PIL import Image, ImageDraw\n",
        "import matplotlib.pyplot as plt\n",
        "\n",
        "# Create a blank image with a white background\n",
        "width, height = 200, 200\n",
        "image = Image.new('RGB', (width, height), 'white')\n",
        "draw = ImageDraw.Draw(image)\n",
        "\n",
        "# Draw the face (yellow circle)\n",
        "face_radius = 80\n",
        "face_x = width // 2\n",
        "face_y = height // 2\n",
        "draw.ellipse((face_x - face_radius, face_y - face_radius, face_x + face_radius, face_y + face_radius), fill='yellow')\n",
        "\n",
        "# Draw the eyes (two black circles)\n",
        "eye_radius = 10\n",
        "eye_x_offset = 30\n",
        "eye_y_offset = 30\n",
        "draw.ellipse((face_x - eye_x_offset - eye_radius, face_y - eye_y_offset - eye_radius,\n",
        "              face_x - eye_x_offset + eye_radius, face_y - eye_y_offset + eye_radius), fill='black')\n",
        "draw.ellipse((face_x + eye_x_offset - eye_radius, face_y - eye_y_offset - eye_radius,\n",
        "              face_x + eye_x_offset + eye_radius, face_y - eye_y_offset + eye_radius), fill='black')\n",
        "\n",
        "# Draw the mouth (black arc)\n",
        "mouth_width = 60\n",
        "mouth_height = 30\n",
        "mouth_y_offset = 40\n",
        "draw.arc((face_x - mouth_width // 2, face_y + mouth_y_offset - mouth_height // 2,\n",
        "          face_x + mouth_width // 2, face_y + mouth_y_offset + mouth_height // 2), start=0, end=180, fill='black', width=5)\n",
        "\n",
        "# Save the image\n",
        "image.save('custom_emoji.png')\n",
        "\n",
        "# Display the image using matplotlib\n",
        "plt.imshow(image)\n",
        "plt.axis('off')  # Hide the axis\n",
        "plt.show()\n"
      ]
    }
  ]
}