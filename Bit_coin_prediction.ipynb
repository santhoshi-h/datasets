{
  "nbformat": 4,
  "nbformat_minor": 0,
  "metadata": {
    "colab": {
      "provenance": [],
      "authorship_tag": "ABX9TyNwSRauNfG7TsHvMOcw61/5",
      "include_colab_link": true
    },
    "kernelspec": {
      "name": "python3",
      "display_name": "Python 3"
    },
    "language_info": {
      "name": "python"
    }
  },
  "cells": [
    {
      "cell_type": "markdown",
      "metadata": {
        "id": "view-in-github",
        "colab_type": "text"
      },
      "source": [
        "<a href=\"https://colab.research.google.com/github/santhoshi-h/datasets/blob/main/Bit_coin_prediction.ipynb\" target=\"_parent\"><img src=\"https://colab.research.google.com/assets/colab-badge.svg\" alt=\"Open In Colab\"/></a>"
      ]
    },
    {
      "cell_type": "markdown",
      "source": [
        "Bit coin prediction using Random Forest"
      ],
      "metadata": {
        "id": "M8o9_wfsZQi2"
      }
    },
    {
      "cell_type": "code",
      "execution_count": 1,
      "metadata": {
        "colab": {
          "base_uri": "https://localhost:8080/"
        },
        "id": "kV3zUREHZLNk",
        "outputId": "a0940442-1051-436f-dda5-74412fba1d79"
      },
      "outputs": [
        {
          "output_type": "stream",
          "name": "stdout",
          "text": [
            "Mean Squared Error: 87.3583484756265\n",
            "       Actual  Predicted\n",
            "51    2823.81  2859.2162\n",
            "405    737.23   729.4451\n",
            "721    265.08   265.3513\n",
            "485    417.96   418.0360\n",
            "1177   454.43   453.6736\n"
          ]
        }
      ],
      "source": [
        "import numpy as np\n",
        "import pandas as pd\n",
        "from sklearn.model_selection import train_test_split\n",
        "from sklearn.ensemble import RandomForestRegressor\n",
        "from sklearn.metrics import mean_squared_error\n",
        "\n",
        "# Load the dataset\n",
        "def load_data(url):\n",
        "    df = pd.read_csv(url)\n",
        "    return df\n",
        "\n",
        "# Clean the dataset\n",
        "def clean_data(df):\n",
        "    # Replace non-numeric values with NaN\n",
        "    for column in ['Open', 'High', 'Low', 'Close', 'Volume']:\n",
        "        df[column] = df[column].replace({'-': np.nan, ',': ''}, regex=True).astype(float)\n",
        "\n",
        "    return df\n",
        "\n",
        "# Prepare the data\n",
        "def prepare_data(df):\n",
        "    df['Date'] = pd.to_datetime(df['Date'])\n",
        "    df['Day'] = df['Date'].dt.day\n",
        "    df['Month'] = df['Date'].dt.month\n",
        "    df['Year'] = df['Date'].dt.year\n",
        "\n",
        "    # Assuming 'Close' is the target variable we want to predict\n",
        "    df['Target'] = df['Close'].shift(-1)\n",
        "    df = df.dropna()  # Drop rows with NaN values in 'Target'\n",
        "\n",
        "    # Features and target variable\n",
        "    features = df[['Open', 'High', 'Low', 'Volume', 'Day', 'Month', 'Year']]\n",
        "    target = df['Target']\n",
        "\n",
        "    return features, target\n",
        "\n",
        "# Main function\n",
        "def main():\n",
        "    url = 'https://raw.githubusercontent.com/santhoshi-h/datasets/main/bitcoin_price_Training%20-%20Training.csv'\n",
        "    df = load_data(url)\n",
        "\n",
        "    df = clean_data(df)\n",
        "    features, target = prepare_data(df)\n",
        "\n",
        "    X_train, X_test, y_train, y_test = train_test_split(features, target, test_size=0.2, random_state=42)\n",
        "\n",
        "    model = RandomForestRegressor(n_estimators=100, random_state=42)\n",
        "    model.fit(X_train, y_train)\n",
        "\n",
        "    predictions = model.predict(X_test)\n",
        "    mse = mean_squared_error(y_test, predictions)\n",
        "    print(f'Mean Squared Error: {mse}')\n",
        "\n",
        "    # Display predictions vs actual values\n",
        "    results = pd.DataFrame({'Actual': y_test, 'Predicted': predictions})\n",
        "    print(results.head())\n",
        "\n",
        "if __name__ == \"__main__\":\n",
        "    main()"
      ]
    }
  ]
}